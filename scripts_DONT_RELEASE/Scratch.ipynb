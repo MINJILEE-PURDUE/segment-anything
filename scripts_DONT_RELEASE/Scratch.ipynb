{
 "cells": [
  {
   "cell_type": "code",
   "execution_count": null,
   "id": "9397aa8a",
   "metadata": {},
   "outputs": [],
   "source": [
    "import torch"
   ]
  },
  {
   "cell_type": "code",
   "execution_count": null,
   "id": "b283b0df",
   "metadata": {},
   "outputs": [],
   "source": [
    "import sys\n",
    "sys.path.append(\"..\")"
   ]
  },
  {
   "cell_type": "code",
   "execution_count": null,
   "id": "93c5a623",
   "metadata": {},
   "outputs": [],
   "source": [
    "from predictor import SamPredictor\n",
    "from sam import build_sam\n",
    "import numpy as np"
   ]
  },
  {
   "cell_type": "code",
   "execution_count": null,
   "id": "b459b9b3",
   "metadata": {},
   "outputs": [],
   "source": [
    "sam = build_sam()\n",
    "_ = sam.eval()\n",
    "sam.load_state_dict(torch.load('test_sam6.pth', map_location='cpu'))\n",
    "predictor = SamPredictor(sam)"
   ]
  },
  {
   "cell_type": "code",
   "execution_count": null,
   "id": "53bee232",
   "metadata": {},
   "outputs": [],
   "source": []
  },
  {
   "cell_type": "code",
   "execution_count": null,
   "id": "e732f510",
   "metadata": {},
   "outputs": [],
   "source": [
    "test_image_path = \"/private/home/mintun/DalleBunny.png\""
   ]
  },
  {
   "cell_type": "code",
   "execution_count": null,
   "id": "9843b165",
   "metadata": {},
   "outputs": [],
   "source": [
    "from detectron2.data.detection_utils import read_image"
   ]
  },
  {
   "cell_type": "code",
   "execution_count": null,
   "id": "7d7890e7",
   "metadata": {},
   "outputs": [],
   "source": [
    "im = read_image(test_image_path, \"RGB\")"
   ]
  },
  {
   "cell_type": "code",
   "execution_count": null,
   "id": "49acc959",
   "metadata": {},
   "outputs": [],
   "source": [
    "predictor.set_image(im)"
   ]
  },
  {
   "cell_type": "code",
   "execution_count": null,
   "id": "8cff6263",
   "metadata": {},
   "outputs": [],
   "source": [
    "import matplotlib.pyplot as plt"
   ]
  },
  {
   "cell_type": "code",
   "execution_count": null,
   "id": "8e89e04e",
   "metadata": {},
   "outputs": [],
   "source": [
    "point_coords = torch.tensor([[[700.0,100.0]]]).numpy()\n",
    "point_labels = torch.tensor([[1]]).numpy()\n",
    "#point_coords = torch.tensor([[[500,400], [600, 700]]])\n",
    "#point_labels = torch.tensor([[2,3]])"
   ]
  },
  {
   "cell_type": "code",
   "execution_count": null,
   "id": "3ee2ab4a",
   "metadata": {},
   "outputs": [],
   "source": [
    "masks, iou_preds, low_res_masks = predictor.predict(\n",
    "    point_coords=point_coords,\n",
    "    point_labels=point_labels,\n",
    "    boxes=None,\n",
    "    mask_input=None,\n",
    "    multimask_output=True,\n",
    ")"
   ]
  },
  {
   "cell_type": "code",
   "execution_count": null,
   "id": "292b8509",
   "metadata": {},
   "outputs": [],
   "source": [
    "masks.shape"
   ]
  },
  {
   "cell_type": "code",
   "execution_count": null,
   "id": "783bc5fa",
   "metadata": {},
   "outputs": [],
   "source": [
    "plt.figure(figsize=(20,20))\n",
    "plt.imshow(im)\n",
    "plt.scatter(point_coords[0,:,0], point_coords[0,:,1], color='green', s=100)\n",
    "plt.show()"
   ]
  },
  {
   "cell_type": "code",
   "execution_count": null,
   "id": "ec042c93",
   "metadata": {
    "scrolled": false
   },
   "outputs": [],
   "source": [
    "for m in masks[0]:\n",
    "    plt.figure(figsize=(20,20))\n",
    "    plt.imshow(m)\n",
    "    plt.scatter(point_coords[0,:,0], point_coords[0,:,1], color='green', s=100)\n",
    "    plt.show()"
   ]
  },
  {
   "cell_type": "code",
   "execution_count": null,
   "id": "674e3d17",
   "metadata": {},
   "outputs": [],
   "source": [
    "from segment_everything import InteractivePredictor\n",
    "from detectron2.config import LazyConfig"
   ]
  },
  {
   "cell_type": "code",
   "execution_count": null,
   "id": "75e80ca0",
   "metadata": {},
   "outputs": [],
   "source": [
    "cfg = LazyConfig.load(\"/checkpoint/segment_everything/models/95701_config.yaml\")\n",
    "checkpoint = \"/checkpoint/segment_everything/models/95701_model_final.pth\"\n",
    "old_model = InteractivePredictor.from_cfg(cfg, checkpoint, device='cpu')"
   ]
  },
  {
   "cell_type": "code",
   "execution_count": null,
   "id": "246d339a",
   "metadata": {},
   "outputs": [],
   "source": [
    "old_model.set_image(im)"
   ]
  },
  {
   "cell_type": "code",
   "execution_count": null,
   "id": "f72e5feb",
   "metadata": {},
   "outputs": [],
   "source": [
    "torch.all(predictor.features == old_model.features['low_res_embeddings'])"
   ]
  },
  {
   "cell_type": "code",
   "execution_count": null,
   "id": "b8b34d7c",
   "metadata": {},
   "outputs": [],
   "source": [
    "old_model_masks, old_model_iou_preds, old_model_for_next_iter = old_model.predict(\n",
    "        point_coords=point_coords[0],\n",
    "        point_labels=point_labels[0],\n",
    "        from_prev_iter=None,\n",
    "        return_best_mask_only=False,\n",
    "        fix_point_eval_of_box_model=True,\n",
    "        threshold=True,\n",
    "        is_first_iter=True,\n",
    ")"
   ]
  },
  {
   "cell_type": "code",
   "execution_count": null,
   "id": "26ca71ed",
   "metadata": {},
   "outputs": [],
   "source": [
    "old_model_masks.shape"
   ]
  },
  {
   "cell_type": "code",
   "execution_count": null,
   "id": "51669f34",
   "metadata": {},
   "outputs": [],
   "source": []
  },
  {
   "cell_type": "code",
   "execution_count": null,
   "id": "c0ca83ce",
   "metadata": {
    "scrolled": false
   },
   "outputs": [],
   "source": [
    "for m in old_model_masks:\n",
    "    plt.figure(figsize=(20,20))\n",
    "    plt.imshow(m)\n",
    "    plt.scatter(point_coords[0,:,0], point_coords[0,:,1], color='green', s=100)\n",
    "    plt.show()"
   ]
  },
  {
   "cell_type": "code",
   "execution_count": null,
   "id": "c514fb2b",
   "metadata": {},
   "outputs": [],
   "source": [
    "low_res_masks.shape"
   ]
  },
  {
   "cell_type": "code",
   "execution_count": null,
   "id": "e0f04ec4",
   "metadata": {},
   "outputs": [],
   "source": [
    "old_model_low_res_masks = old_model_for_next_iter[\"low_res_pred_masks\"]"
   ]
  },
  {
   "cell_type": "code",
   "execution_count": null,
   "id": "8c15dcdb",
   "metadata": {},
   "outputs": [],
   "source": [
    "np.all(low_res_masks== old_model_low_res_masks.numpy())"
   ]
  },
  {
   "cell_type": "code",
   "execution_count": null,
   "id": "5865cbaa",
   "metadata": {},
   "outputs": [],
   "source": [
    "old_model_low_res_masks.shape"
   ]
  },
  {
   "cell_type": "code",
   "execution_count": null,
   "id": "05298e72",
   "metadata": {},
   "outputs": [],
   "source": [
    "old_model_masks.shape"
   ]
  },
  {
   "cell_type": "code",
   "execution_count": null,
   "id": "7f4f91e2",
   "metadata": {},
   "outputs": [],
   "source": [
    "np.any(masks ^ old_model_masks)"
   ]
  },
  {
   "cell_type": "code",
   "execution_count": null,
   "id": "2abfcea1",
   "metadata": {
    "scrolled": false
   },
   "outputs": [],
   "source": [
    "for m in (masks ^ old_model_masks)[0]:\n",
    "    plt.figure(figsize=(20,20))\n",
    "    plt.imshow(m)\n",
    "    plt.scatter(point_coords[0,:,0], point_coords[0,:,1], color='green', s=100)\n",
    "    plt.show()"
   ]
  },
  {
   "cell_type": "code",
   "execution_count": null,
   "id": "19f73e5c",
   "metadata": {},
   "outputs": [],
   "source": []
  }
 ],
 "metadata": {
  "kernelspec": {
   "display_name": "Python 3 (ipykernel)",
   "language": "python",
   "name": "python3"
  },
  "language_info": {
   "codemirror_mode": {
    "name": "ipython",
    "version": 3
   },
   "file_extension": ".py",
   "mimetype": "text/x-python",
   "name": "python",
   "nbconvert_exporter": "python",
   "pygments_lexer": "ipython3",
   "version": "3.9.12"
  }
 },
 "nbformat": 4,
 "nbformat_minor": 5
}
